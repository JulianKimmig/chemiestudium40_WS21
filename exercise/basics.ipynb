{
 "cells": [
  {
   "cell_type": "markdown",
   "id": "0afec2fc-b7f5-4c43-8a87-802b16ead349",
   "metadata": {},
   "source": [
    "there is always a sample solution, which can be revealed by clicking the 3 dots:"
   ]
  },
  {
   "cell_type": "code",
   "execution_count": 1,
   "id": "ef645930-62cd-4eb6-9ad0-46dbb5923982",
   "metadata": {
    "jupyter": {
     "source_hidden": true
    },
    "tags": []
   },
   "outputs": [],
   "source": [
    "#hello there"
   ]
  },
  {
   "cell_type": "markdown",
   "id": "b358fae6-dd6a-43b3-af46-b1c5b2e57d35",
   "metadata": {},
   "source": [
    "### 1 \n",
    "create an list if dictionaries, which contain the count of each atom in the respective molecular formular (sample_output).\n",
    "\n",
    "Tip: only atoms with one character (e.g. no \"Cl\",..) and every atom has an explicit count\n",
    "\n",
    "used in sample solutions needed:\n",
    "* list (https://www.w3schools.com/python/python_lists.asp)\n",
    "* dictionaries (https://www.w3schools.com/python/python_dictionaries.asp)\n",
    "* iteration (for-loops) (https://www.w3schools.com/python/python_for_loops.asp)\n",
    "* continonals (if...else) (https://www.w3schools.com/python/python_conditions.asp)"
   ]
  },
  {
   "cell_type": "code",
   "execution_count": 2,
   "id": "5c2353c4-2ccf-4e7f-ac26-5b94a9b92692",
   "metadata": {},
   "outputs": [
    {
     "data": {
      "text/plain": [
       "[{'C': 3, 'H': 6, 'O': 2}, {'C': 2, 'H': 4, 'I': 2}, {'C': 6, 'H': 6}]"
      ]
     },
     "execution_count": 2,
     "metadata": {},
     "output_type": "execute_result"
    }
   ],
   "source": [
    "input_formulae = [\"C3H6O2\",\"C2H4I2\",\"C6H6\"]\n",
    "sample_output=[\n",
    "    {'C': 3, 'H': 6, 'O': 2}, \n",
    "    {'C': 2, 'H': 4, 'I': 2}, \n",
    "    {'C': 6, 'H': 6},\n",
    "]\n",
    "\n",
    "sample_output"
   ]
  },
  {
   "cell_type": "markdown",
   "id": "79a97d7d-9987-4e6b-9597-799a9ad99f42",
   "metadata": {},
   "source": [
    "sample solution"
   ]
  },
  {
   "cell_type": "code",
   "execution_count": 3,
   "id": "5493f8c7-b882-43b1-9503-42d7bdd2b03e",
   "metadata": {
    "jupyter": {
     "source_hidden": true
    },
    "tags": []
   },
   "outputs": [
    {
     "data": {
      "text/plain": [
       "[{'C': 3, 'H': 6, 'O': 2}, {'C': 2, 'H': 4, 'I': 2}, {'C': 6, 'H': 6}]"
      ]
     },
     "execution_count": 3,
     "metadata": {},
     "output_type": "execute_result"
    }
   ],
   "source": [
    "#given by the tip: every even character is an atom and the following character is its amount\n",
    "\n",
    "res=[]                                      # create empty list\n",
    "for sumform in input_formulae:              # iterate over formulas\n",
    "    sum_dic={}                              # create emtpty dictionary in iteration\n",
    "    for i,char in enumerate(sumform):       # iterate over each character of formular\n",
    "        if i%2 == 0:                        # if formular is even (modulus 2 is 0), alternativly 'if int(i/2)==i/2' -> if integer value of division equals division value is dividable by 2\n",
    "            sum_dic[char]=int(sumform[i+1]) # set the value of the current character (atom) to the integer representation of the next character\n",
    "    res.append(sum_dic)                     # append the dictionary to the list\n",
    "res\n",
    "\n",
    "#alternatively \n",
    "\n",
    "res=[]                                      # create empty list\n",
    "for sumform in input_formulae:              # iterate over formulas\n",
    "    sum_dic={}                              # create emtpty dictionary in iteration\n",
    "    is_atom = True                          # create an variable which tracks wheater the current position is an atom or a number, starting with true since the first character is always an atom\n",
    "    current_atom = None                     # variable which stores the value of the last seen atom, initialized as None (empty), but could be any value\n",
    "    for char in sumform:                    # iterate over each character of formular\n",
    "        if is_atom:                         # if we expect an atom\n",
    "            current_atom = char             # set the current atom to the character\n",
    "        else:                               # otherwise\n",
    "            sum_dic[current_atom]=int(char) # set the amount of the stored atom to the integer representation of the current charcater\n",
    "        is_atom = not is_atom               # switch the experctation of seeing an atom (or number)\n",
    "    res.append(sum_dic)                     # append the dictionary to the list\n",
    "res"
   ]
  },
  {
   "cell_type": "markdown",
   "id": "722643ec-c9e9-4152-9603-c3fc7ed49d23",
   "metadata": {
    "tags": []
   },
   "source": [
    "### 2\n",
    "same excercise as before but with the the possibility of having a unique occurence of an atom, which has no explicit count (1)\n",
    "\n",
    "(additionally) used in sample:\n",
    "* try...except (https://www.w3schools.com/python/python_try_except.asp)"
   ]
  },
  {
   "cell_type": "code",
   "execution_count": 4,
   "id": "9a380751-2489-4bfc-b90d-d546c46446fd",
   "metadata": {
    "tags": []
   },
   "outputs": [
    {
     "data": {
      "text/plain": [
       "[{'C': 1, 'H': 4}, {'H': 2, 'S': 1, 'O': 4}, {'C': 3, 'H': 9}]"
      ]
     },
     "execution_count": 4,
     "metadata": {},
     "output_type": "execute_result"
    }
   ],
   "source": [
    "input_formulae = [\"CH4\",\"H2SO4\",\"C3H9N\"]\n",
    "sample_output=[\n",
    "    {'C': 1, 'H': 4}, \n",
    "    {'H': 2, 'S': 1, 'O': 4}, \n",
    "    {'C': 3, 'H': 9}\n",
    "]\n",
    "sample_output"
   ]
  },
  {
   "cell_type": "markdown",
   "id": "50bc2783-3738-4a15-8866-c929598fa0bd",
   "metadata": {},
   "source": [
    "sample solutions"
   ]
  },
  {
   "cell_type": "code",
   "execution_count": 5,
   "id": "879eb807-26ab-4cc2-87cd-367c5f532085",
   "metadata": {
    "collapsed": true,
    "jupyter": {
     "outputs_hidden": true,
     "source_hidden": true
    },
    "tags": []
   },
   "outputs": [
    {
     "ename": "ValueError",
     "evalue": "invalid literal for int() with base 10: 'C'",
     "output_type": "error",
     "traceback": [
      "\u001b[1;31m---------------------------------------------------------------------------\u001b[0m",
      "\u001b[1;31mValueError\u001b[0m                                Traceback (most recent call last)",
      "\u001b[1;32m~\\AppData\\Local\\Temp/ipykernel_10080/1657275912.py\u001b[0m in \u001b[0;36m<module>\u001b[1;34m\u001b[0m\n\u001b[0;32m      1\u001b[0m \u001b[1;31m# similar to before, but since it is possible to have no number after an atom\u001b[0m\u001b[1;33m\u001b[0m\u001b[1;33m\u001b[0m\u001b[1;33m\u001b[0m\u001b[0m\n\u001b[0;32m      2\u001b[0m \u001b[1;31m# the int(char) call can result in a ValueError\u001b[0m\u001b[1;33m\u001b[0m\u001b[1;33m\u001b[0m\u001b[1;33m\u001b[0m\u001b[0m\n\u001b[1;32m----> 3\u001b[1;33m \u001b[0mint\u001b[0m\u001b[1;33m(\u001b[0m\u001b[1;34m\"C\"\u001b[0m\u001b[1;33m)\u001b[0m\u001b[1;33m\u001b[0m\u001b[1;33m\u001b[0m\u001b[0m\n\u001b[0m",
      "\u001b[1;31mValueError\u001b[0m: invalid literal for int() with base 10: 'C'"
     ]
    }
   ],
   "source": [
    "# similar to before, but since it is possible to have no number after an atom\n",
    "# the int(char) call can result in a ValueError\n",
    "int(\"C\")"
   ]
  },
  {
   "cell_type": "code",
   "execution_count": null,
   "id": "5c9f7422-028e-4b7a-be81-75a3926d70e7",
   "metadata": {
    "jupyter": {
     "source_hidden": true
    },
    "tags": []
   },
   "outputs": [],
   "source": [
    "#if this happens the count is implicit 1 and we continue, expecting an atom\n",
    "res=[]                                    \n",
    "for sumform in input_formulae:              \n",
    "    sum_dic={}                              \n",
    "    is_atom = True                          \n",
    "    current_atom = None                     \n",
    "    for char in sumform:                    \n",
    "        if is_atom:                         \n",
    "            current_atom = char             \n",
    "        else:                              \n",
    "            try:                                 #  try to run some code\n",
    "                sum_dic[current_atom]=int(char)\n",
    "            except ValueError:                   # if a ValueError occures duriing the try\n",
    "                sum_dic[current_atom]=1          # set the count of the current atom to 1\n",
    "                current_atom = char              # set the current value which is not an number as the new atom\n",
    "                is_atom = not is_atom            # since per default the expectation would switch, and we dont want that, we simply switch it one more time\n",
    "                \n",
    "        is_atom = not is_atom               \n",
    "    res.append(sum_dic)                    \n",
    "res"
   ]
  },
  {
   "cell_type": "markdown",
   "id": "a74bc04f-ff93-405d-a19a-e3bdb03ead72",
   "metadata": {
    "tags": []
   },
   "source": [
    "### 3\n",
    "now we generalize to any atom, including these with multiple character per symbol (e.g. Cl) and also counts >9\n",
    "\n",
    "(additionally) used in sample:\n",
    "* string methods (https://www.w3schools.com/python/python_ref_string.asp)\n",
    "* len function (https://www.w3schools.com/python/ref_func_len.asp)\n",
    "* range function (https://www.w3schools.com/python/ref_func_range.asp)\n"
   ]
  },
  {
   "cell_type": "code",
   "execution_count": 7,
   "id": "56d8a863-dd84-41ec-b995-3ba24a54e453",
   "metadata": {
    "tags": []
   },
   "outputs": [
    {
     "data": {
      "text/plain": [
       "[{'Na': 2, 'S': 1, 'O': 4},\n",
       " {'C': 1, 'H': 1, 'Cl': 3},\n",
       " {'C': 19, 'H': 17, 'Cl': 2, 'N': 3, 'O': 5, 'S': 1}]"
      ]
     },
     "execution_count": 7,
     "metadata": {},
     "output_type": "execute_result"
    }
   ],
   "source": [
    "input_formulae = [\"Na2SO4\",\"CHCl3\",\"C19H17Cl2N3O5S\"]\n",
    "sample_output=[\n",
    "    {'Na': 2, 'S': 1, 'O': 4}, \n",
    "    {'C': 1, 'H': 1, 'Cl': 3},\n",
    "    {'C': 19, 'H': 17, 'Cl': 2, 'N': 3, 'O': 5, 'S': 1}\n",
    "]\n",
    "sample_output"
   ]
  },
  {
   "cell_type": "markdown",
   "id": "2347f0f9-0a64-4464-b10a-89590d168570",
   "metadata": {},
   "source": [
    "sample solutions"
   ]
  },
  {
   "cell_type": "code",
   "execution_count": 8,
   "id": "2c4fb782-87e5-4c00-bc00-a1cee7d68ed2",
   "metadata": {
    "collapsed": true,
    "jupyter": {
     "outputs_hidden": true,
     "source_hidden": true
    },
    "tags": []
   },
   "outputs": [
    {
     "name": "stdout",
     "output_type": "stream",
     "text": [
      "\tatom indices: [0, 3, 4]\n",
      "\tsubstrings: ['Na2', 'S', 'O4']\n",
      "\tatom indices: [0, 1, 2]\n",
      "\tsubstrings: ['C', 'H', 'Cl3']\n",
      "\tatom indices: [0, 3, 6, 9, 11, 13]\n",
      "\tsubstrings: ['C19', 'H17', 'Cl2', 'N3', 'O5', 'S']\n"
     ]
    },
    {
     "data": {
      "text/plain": [
       "[{'Na': 2, 'S': 1, 'O': 4},\n",
       " {'C': 1, 'H': 1, 'Cl': 3},\n",
       " {'C': 19, 'H': 17, 'Cl': 2, 'N': 3, 'O': 5, 'S': 1}]"
      ]
     },
     "execution_count": 8,
     "metadata": {},
     "output_type": "execute_result"
    }
   ],
   "source": [
    "res=[]\n",
    "for sumform in input_formulae: \n",
    "    upper_indices = []                 # empty list to store the indices of first character of atoms\n",
    "    sum_dic={}   \n",
    "    \n",
    "    for i,char in enumerate(sumform):  # iterate over all characters \n",
    "        if char.isupper():             # is character is uppercase\n",
    "            upper_indices.append(i)    # store its index\n",
    "    print(\"\\tatom indices:\",upper_indices)\n",
    "    \n",
    "    substrings=[]                           # empty list for substrings\n",
    "    for i in range(len(upper_indices) - 1): # iterate over all but last indices of positions where atomsymbols start\n",
    "        substrings.append(\n",
    "            sumform[upper_indices[i]:upper_indices[i+1]] # append the sumform starting from the starting index (including) to the index of the enxt atom (excluding)\n",
    "        )  # \n",
    "    substrings.append(sumform[upper_indices[-1]:]) # apend the substring from the last atom index until the end\n",
    "    \n",
    "\n",
    "    print(\"\\tsubstrings:\",substrings)\n",
    "    \n",
    "    for subs in substrings:  # now we iterate over all substrings\n",
    "        number_found = False  # flag weather a number was found\n",
    "        for i,char in enumerate(subs): # iterate over all characters from the substrings\n",
    "            if char.isnumeric():  # if the character is a number\n",
    "                atom = subs[:i]   # the atom symbol is everythnig in the substring until the numeric position\n",
    "                count = subs[i:]  # the number is everything else\n",
    "                sum_dic[atom]=int(count) # set the atom count to to the integer value of the count variable\n",
    "                number_found = True # set the number_found flag true\n",
    "                break # stop iterating ofer the characters\n",
    "                \n",
    "        if not number_found: # if no number in the substring\n",
    "            sum_dic[subs]=1  # the amount is impliciltly 1\n",
    "        \n",
    "    res.append(sum_dic)   \n",
    "res"
   ]
  },
  {
   "cell_type": "markdown",
   "id": "04f4e40c-7bef-4b32-97ef-3397f5817137",
   "metadata": {},
   "source": [
    "### 4 \n",
    "finally what happens when an atom occurse multiple times, the last methods would overwrite the entry\n",
    "so now whe need a way to add the count if it is already present in the dictionary:\n",
    "\n",
    "(additionally) used in sample:\n",
    "* dictionary methods (https://www.w3schools.com/python/python_ref_dictionary.asp)"
   ]
  },
  {
   "cell_type": "code",
   "execution_count": 15,
   "id": "25c9d46c-4479-4fb3-8b7f-d21ae4dfa114",
   "metadata": {},
   "outputs": [
    {
     "data": {
      "text/plain": [
       "[{'C': 2, 'H': 4, 'O': 2}, {'C': 7, 'H': 7, 'Br': 1}, {'C': 2, 'H': 6, 'O': 1}]"
      ]
     },
     "execution_count": 15,
     "metadata": {},
     "output_type": "execute_result"
    }
   ],
   "source": [
    "input_formulae = [\"CH3COOH\",\"C6H5CH2Br\",\"CH3CH2OH\"]\n",
    "sample_output=[\n",
    "   {'C': 2, 'H': 4, 'O': 2},\n",
    "    {'C': 7, 'H': 7, 'Br': 1},\n",
    "    {'C': 2, 'H': 6, 'O': 1},\n",
    "]\n",
    "sample_output"
   ]
  },
  {
   "cell_type": "code",
   "execution_count": 14,
   "id": "86d7100f-b1e9-403d-b105-953e816af08b",
   "metadata": {
    "collapsed": true,
    "jupyter": {
     "outputs_hidden": true
    },
    "tags": []
   },
   "outputs": [
    {
     "name": "stdout",
     "output_type": "stream",
     "text": [
      "\tatom indices: [0, 1, 3, 4, 5, 6]\n",
      "\tsubstrings: ['C', 'H3', 'C', 'O', 'O', 'H']\n",
      "\tatom indices: [0, 2, 4, 5, 7]\n",
      "\tsubstrings: ['C6', 'H5', 'C', 'H2', 'Br']\n",
      "\tatom indices: [0, 1, 3, 4, 6, 7]\n",
      "\tsubstrings: ['C', 'H3', 'C', 'H2', 'O', 'H']\n"
     ]
    },
    {
     "data": {
      "text/plain": [
       "[{'C': 2, 'H': 4, 'O': 2}, {'C': 7, 'H': 7, 'Br': 1}, {'C': 2, 'H': 6, 'O': 1}]"
      ]
     },
     "execution_count": 14,
     "metadata": {},
     "output_type": "execute_result"
    }
   ],
   "source": [
    "res=[]\n",
    "for sumform in input_formulae: \n",
    "    upper_indices = []                \n",
    "    sum_dic={}   \n",
    "    \n",
    "    for i,char in enumerate(sumform):  \n",
    "        if char.isupper():            \n",
    "            upper_indices.append(i)  \n",
    "    print(\"\\tatom indices:\",upper_indices)\n",
    "    \n",
    "    substrings=[]                      \n",
    "    for i in range(len(upper_indices) - 1):\n",
    "        substrings.append(\n",
    "            sumform[upper_indices[i]:upper_indices[i+1]]\n",
    "        )  \n",
    "    substrings.append(sumform[upper_indices[-1]:]) \n",
    "    \n",
    "\n",
    "    print(\"\\tsubstrings:\",substrings)\n",
    "    \n",
    "    for subs in substrings: \n",
    "        number_found = False  \n",
    "        for i,char in enumerate(subs): \n",
    "            if char.isnumeric():  \n",
    "                atom = subs[:i]  \n",
    "                count = subs[i:]  \n",
    "                sum_dic[atom] = sum_dic.get(atom,0) + int(count) # instead of setting the value of the dict to a fixt value we get the value that is in the dict via the get method, and get 0 if the key (atom) is not in the dict. And then add the count\n",
    "                number_found = True\n",
    "                break \n",
    "                \n",
    "        if not number_found:\n",
    "            atom = subs\n",
    "            sum_dic[atom] = sum_dic.get(atom,0) + 1  # instead of setting the value of the dict to a fixt value we get the value that is in the dict via the get method, and get 0 if the key (atom) is not in the dict. And then add the count\n",
    "        \n",
    "    res.append(sum_dic)   \n",
    "res"
   ]
  },
  {
   "cell_type": "code",
   "execution_count": null,
   "id": "f8568461-9ff1-4459-99bf-8bc7195bbbd6",
   "metadata": {},
   "outputs": [],
   "source": []
  }
 ],
 "metadata": {
  "kernelspec": {
   "display_name": "Python 3 (ipykernel)",
   "language": "python",
   "name": "python3"
  },
  "language_info": {
   "codemirror_mode": {
    "name": "ipython",
    "version": 3
   },
   "file_extension": ".py",
   "mimetype": "text/x-python",
   "name": "python",
   "nbconvert_exporter": "python",
   "pygments_lexer": "ipython3",
   "version": "3.8.0"
  }
 },
 "nbformat": 4,
 "nbformat_minor": 5
}
