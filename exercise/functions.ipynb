{
 "cells": [
  {
   "cell_type": "markdown",
   "id": "e8b4dbc6-8d01-4621-a6c5-a27a2cee7772",
   "metadata": {},
   "source": [
    "I want you to create functions which tage a given input and produce the given output:\n",
    "https://www.w3schools.com/python/python_functions.asp"
   ]
  },
  {
   "cell_type": "markdown",
   "id": "cc4da00b-0678-40fc-8a15-6e1fe792ca24",
   "metadata": {},
   "source": [
    "* a function which returns the sum formula of a an extended moelcular formula (tipp: use last example in basics.ipynb)"
   ]
  },
  {
   "cell_type": "code",
   "execution_count": 1,
   "id": "bd7f4276-3dce-421e-855b-b88614e904cb",
   "metadata": {},
   "outputs": [
    {
     "data": {
      "text/plain": [
       "['I need this', 'I need this', 'I need this']"
      ]
     },
     "metadata": {},
     "output_type": "display_data"
    },
    {
     "data": {
      "text/plain": [
       "['C2H4O2', 'C7H7Br', 'C2H6O']"
      ]
     },
     "metadata": {},
     "output_type": "display_data"
    }
   ],
   "source": [
    "def create_sum_formular(ex_form):\n",
    "    sum_form = \"I need this\" \n",
    "    return sum_form\n",
    "\n",
    "input_formulae = [\"CH3COOH\",\"C6H5CH2Br\",\"CH3CH2OH\"]\n",
    "wanted = ['C2H4O2', 'C7H7Br', 'C2H6O']\n",
    "output= [create_sum_formular(f) for f in input_formulae]\n",
    "display(output) #display is simplar to print but create better looking representations, only in jupyter\n",
    "display(wanted)"
   ]
  },
  {
   "cell_type": "markdown",
   "id": "56973406-aaaa-47f9-9aaf-60fdf9d9e083",
   "metadata": {},
   "source": [
    "sample solution"
   ]
  },
  {
   "cell_type": "code",
   "execution_count": 2,
   "id": "9b5dce0e-b2e5-4c6f-86ab-2cad24ad5afe",
   "metadata": {
    "jupyter": {
     "source_hidden": true
    },
    "tags": []
   },
   "outputs": [],
   "source": [
    "def create_sum_formular(ex_form):\n",
    "    # take code from last example in  basics.ipynb\n",
    "    upper_indices = []                \n",
    "    sum_dic={}   \n",
    "    \n",
    "    for i,char in enumerate(ex_form):  \n",
    "        if char.isupper():            \n",
    "            upper_indices.append(i)  \n",
    "    \n",
    "    substrings=[]                      \n",
    "    for i in range(len(upper_indices) - 1):\n",
    "        substrings.append(\n",
    "            ex_form[upper_indices[i]:upper_indices[i+1]]\n",
    "        )  \n",
    "    substrings.append(ex_form[upper_indices[-1]:]) \n",
    "    \n",
    "\n",
    "    for subs in substrings: \n",
    "        number_found = False  \n",
    "        for i,char in enumerate(subs): \n",
    "            if char.isnumeric():  \n",
    "                atom = subs[:i]  \n",
    "                count = subs[i:]  \n",
    "                sum_dic[atom] = sum_dic.get(atom,0) + int(count) # instead of setting the value of the dict to a fixt value we get the value that is in the dict via the get method, and get 0 if the key (atom) is not in the dict. And then add the count\n",
    "                number_found = True\n",
    "                break \n",
    "                \n",
    "        if not number_found:\n",
    "            atom = subs\n",
    "            sum_dic[atom] = sum_dic.get(atom,0) + 1  # instead of setting the value of the dict to a fixt value we get the value that is in the dict via the get method, and get 0 if the key (atom) is not in the dict. And then add the count \n",
    "    \n",
    "    sum_form = \"\"\n",
    "    for k,v in sum_dic.items():\n",
    "        if v == 1:\n",
    "            sum_form+=k\n",
    "        else:\n",
    "            sum_form+=f\"{k}{v}\"\n",
    "    return sum_form"
   ]
  },
  {
   "cell_type": "code",
   "execution_count": 3,
   "id": "3ef5fcaf-fc4d-4459-9c22-c77ce69b81f7",
   "metadata": {},
   "outputs": [
    {
     "data": {
      "text/plain": [
       "['C2H4O2', 'C7H7Br', 'C2H6O']"
      ]
     },
     "metadata": {},
     "output_type": "display_data"
    },
    {
     "data": {
      "text/plain": [
       "['C2H4O2', 'C7H7Br', 'C2H6O']"
      ]
     },
     "metadata": {},
     "output_type": "display_data"
    }
   ],
   "source": [
    "output= [create_sum_formular(f) for f in input_formulae]\n",
    "display(output)\n",
    "display(wanted)"
   ]
  },
  {
   "cell_type": "markdown",
   "id": "61f0b578-e4bb-449e-b503-c7e1e581bec9",
   "metadata": {},
   "source": [
    "* a function which returns  the factorial (x!) of any givent integer input\n",
    "\n",
    "$ x!=x \\cdot (x-1)*(x-2)\\cdot... \\cdot 3  \\cdot 2  \\cdot 1 $"
   ]
  },
  {
   "cell_type": "code",
   "execution_count": 4,
   "id": "83a229ae-7601-48f5-9441-496a982e43b8",
   "metadata": {},
   "outputs": [
    {
     "data": {
      "text/plain": [
       "'?'"
      ]
     },
     "metadata": {},
     "output_type": "display_data"
    },
    {
     "data": {
      "text/plain": [
       "3628800"
      ]
     },
     "metadata": {},
     "output_type": "display_data"
    }
   ],
   "source": [
    "def factorial(x):\n",
    "    fac=\"?\"\n",
    "    return fac\n",
    "ip=10\n",
    "op=3628800\n",
    "display(factorial(ip))\n",
    "display(op)"
   ]
  },
  {
   "cell_type": "markdown",
   "id": "3ed15777-ccc9-490f-be88-14e65d26211f",
   "metadata": {},
   "source": [
    "sample solution"
   ]
  },
  {
   "cell_type": "code",
   "execution_count": 5,
   "id": "fe548790-c00f-4681-83bf-bad2566d9539",
   "metadata": {
    "jupyter": {
     "source_hidden": true
    },
    "tags": []
   },
   "outputs": [],
   "source": [
    "# since the factorial is defined as the product of the input value x times the factorial of x-1\n",
    "def factorial(x):\n",
    "    #return x*factorial(x-1) is not possible since it would end in en endless recoursion, since x-1 is always psosible (neative values)\n",
    "    if x>0: # only do recursion vr values larger than 0\n",
    "        return x*factorial(x-1)\n",
    "    else: # otherwise return 1\n",
    "        return 1"
   ]
  },
  {
   "cell_type": "code",
   "execution_count": 6,
   "id": "45ce7070-4b97-419e-8866-490928cafe23",
   "metadata": {},
   "outputs": [
    {
     "data": {
      "text/plain": [
       "3628800"
      ]
     },
     "metadata": {},
     "output_type": "display_data"
    },
    {
     "data": {
      "text/plain": [
       "3628800"
      ]
     },
     "metadata": {},
     "output_type": "display_data"
    }
   ],
   "source": [
    "display(factorial(ip))\n",
    "display(op)"
   ]
  },
  {
   "cell_type": "markdown",
   "id": "c31d0c21-8562-4682-a140-f6bc1a27d5e1",
   "metadata": {},
   "source": [
    "* a function which returns a list of the first n values of the fibonacci sequence given the two starting values\n",
    "\n",
    "$ F_n=F_(n-1) \\cdot F_(n-2) $"
   ]
  },
  {
   "cell_type": "code",
   "execution_count": 7,
   "id": "ed21a8ec-6ef5-4e02-9d1b-6d04f529c391",
   "metadata": {},
   "outputs": [
    {
     "data": {
      "text/plain": [
       "'?'"
      ]
     },
     "metadata": {},
     "output_type": "display_data"
    },
    {
     "data": {
      "text/plain": [
       "[1, 1, 2, 3, 5, 8, 13, 21, 34, 55, 89, 144, 233, 377, 610]"
      ]
     },
     "metadata": {},
     "output_type": "display_data"
    }
   ],
   "source": [
    "def fibonacci(x1,x2,n):\n",
    "    fib=\"?\"\n",
    "    return fib\n",
    "ip_x1=1\n",
    "ip_x2=1\n",
    "ip_n = 15\n",
    "op=[1, 1, 2, 3, 5, 8, 13, 21, 34, 55, 89, 144, 233, 377, 610]\n",
    "display(fibonacci(ip_x1,ip_x2,ip_n))\n",
    "display(op)"
   ]
  },
  {
   "cell_type": "markdown",
   "id": "722cbc20-925f-4175-9900-0242a76f20a7",
   "metadata": {},
   "source": [
    "sample solution"
   ]
  },
  {
   "cell_type": "code",
   "execution_count": 8,
   "id": "ad328339-022b-4af7-ba5f-eeefd3dcb482",
   "metadata": {
    "jupyter": {
     "source_hidden": true
    },
    "tags": []
   },
   "outputs": [],
   "source": [
    "def fibonacci(x1,x2,n):\n",
    "    if n>0:\n",
    "        return [x1]+fibonacci(x2,x1+x2,n-1) # store the first value to a list and add a new fib call with a shift in starting sequence and a total length 1 smaller than the input\n",
    "    else:\n",
    "        return []"
   ]
  },
  {
   "cell_type": "code",
   "execution_count": 9,
   "id": "64fb2eb7-1f04-4dbf-9a26-78457e680650",
   "metadata": {},
   "outputs": [
    {
     "data": {
      "text/plain": [
       "[1, 1, 2, 3, 5, 8, 13, 21, 34, 55, 89, 144, 233, 377, 610]"
      ]
     },
     "metadata": {},
     "output_type": "display_data"
    },
    {
     "data": {
      "text/plain": [
       "[1, 1, 2, 3, 5, 8, 13, 21, 34, 55, 89, 144, 233, 377, 610]"
      ]
     },
     "metadata": {},
     "output_type": "display_data"
    }
   ],
   "source": [
    "display(fibonacci(ip_x1,ip_x2,ip_n))\n",
    "display(op)"
   ]
  },
  {
   "cell_type": "code",
   "execution_count": null,
   "id": "acd2bc4b-9505-4364-8c85-d9a378e85776",
   "metadata": {},
   "outputs": [],
   "source": []
  }
 ],
 "metadata": {
  "kernelspec": {
   "display_name": "Python 3 (ipykernel)",
   "language": "python",
   "name": "python3"
  },
  "language_info": {
   "codemirror_mode": {
    "name": "ipython",
    "version": 3
   },
   "file_extension": ".py",
   "mimetype": "text/x-python",
   "name": "python",
   "nbconvert_exporter": "python",
   "pygments_lexer": "ipython3",
   "version": "3.8.0"
  }
 },
 "nbformat": 4,
 "nbformat_minor": 5
}
