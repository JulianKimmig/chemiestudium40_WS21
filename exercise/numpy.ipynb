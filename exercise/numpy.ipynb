{
 "cells": [
  {
   "cell_type": "code",
   "execution_count": 2,
   "id": "68e463b2-8747-4b1f-b011-1daf5299b4a1",
   "metadata": {},
   "outputs": [],
   "source": [
    "import numpy as np # imports the numpy module with the abbrevation np"
   ]
  },
  {
   "cell_type": "markdown",
   "id": "4edbec8c-ff89-4d1e-96df-294cd5f4d1fb",
   "metadata": {},
   "source": [
    "numpy is a geat tool to perform calculus in python. It is way faster than pure python functions since it runs in C and performs opartions in vectorized form (\"on multiple values in parallel\")\n",
    "\n",
    "numpy works with tensors (n-dimesnional \"lists\"), eg.\n",
    "* 0-dimensional = scalar, eg 1.1\n",
    "* 1-dimensional = vector e.g. [1,2,3,4]\n",
    "* 2-dimensional = matrix e.g. [[1,2],[3,4],[5,6]]\n",
    "* ..."
   ]
  },
  {
   "cell_type": "markdown",
   "id": "e2a485f8-a41f-4944-9e4b-7a7b3bfba710",
   "metadata": {},
   "source": [
    "create a numpy vector"
   ]
  },
  {
   "cell_type": "code",
   "execution_count": 3,
   "id": "72bcedd9-701c-4e2b-96cb-60bf15cf9349",
   "metadata": {},
   "outputs": [
    {
     "data": {
      "text/plain": [
       "array([1. , 2. , 3.3])"
      ]
     },
     "execution_count": 3,
     "metadata": {},
     "output_type": "execute_result"
    }
   ],
   "source": [
    "vec = np.array([1,2,3.3])\n",
    "vec"
   ]
  },
  {
   "cell_type": "markdown",
   "id": "2ba05d83-1664-4f1b-b3fe-7c2daa0a24dd",
   "metadata": {},
   "source": [
    "note that the type is always the most common type of all values\n",
    "e.g.\n",
    "* (iteger + float --> float)\n",
    "* (boolean + integer --> integer)"
   ]
  },
  {
   "cell_type": "code",
   "execution_count": 15,
   "id": "6bce9f65-4ba7-4a83-b426-e39f5429a39a",
   "metadata": {},
   "outputs": [
    {
     "name": "stdout",
     "output_type": "stream",
     "text": [
      "array: [1.  2.  3.3] type: float64\n",
      "array: [1 0 2] type: int32\n"
     ]
    }
   ],
   "source": [
    "a=np.array([1,2,3.3])\n",
    "print(\"array:\",a,\"type:\",a.dtype)\n",
    "a = np.array([True,False,2])\n",
    "print(\"array:\",a,\"type:\",a.dtype)"
   ]
  },
  {
   "cell_type": "markdown",
   "id": "852a0231-0a25-468b-84fd-fb85721a9736",
   "metadata": {},
   "source": [
    "there are many usefull functions to create arrays very fast"
   ]
  },
  {
   "cell_type": "code",
   "execution_count": 25,
   "id": "c8e2505d-2937-4b8b-8244-156c3367cc02",
   "metadata": {},
   "outputs": [
    {
     "name": "stdout",
     "output_type": "stream",
     "text": [
      "arange: [ 4  6  8 10 12 14]\n",
      "linspace: [0.         0.22222222 0.44444444 0.66666667 0.88888889 1.11111111\n",
      " 1.33333333 1.55555556 1.77777778 2.        ]\n"
     ]
    }
   ],
   "source": [
    "# list of values with start(inclusive),end(exclusive),and stepsize\n",
    "print(\"arange:\",np.arange(4,15,2))\n",
    "\n",
    "# list of values with start(inclusive),end(inclusive),and number of values\n",
    "print(\"linspace:\",np.linspace(0,2,10))"
   ]
  },
  {
   "cell_type": "code",
   "execution_count": 50,
   "id": "4433e9e5-5ec1-4f7b-88b4-4470d4852ba3",
   "metadata": {},
   "outputs": [
    {
     "name": "stdout",
     "output_type": "stream",
     "text": [
      "12 values of 'sin' between 0 and 2*Pi:\n",
      " [ 0.00000000e+00  5.40640817e-01  9.09631995e-01  9.89821442e-01\n",
      "  7.55749574e-01  2.81732557e-01 -2.81732557e-01 -7.55749574e-01\n",
      " -9.89821442e-01 -9.09631995e-01 -5.40640817e-01 -2.44929360e-16]\n",
      "\n",
      "12 values of 'cos' between 0 and 2*Pi:\n",
      " [ 1.          0.84125353  0.41541501 -0.14231484 -0.65486073 -0.95949297\n",
      " -0.95949297 -0.65486073 -0.14231484  0.41541501  0.84125353  1.        ]\n",
      "\n",
      "12 values of 'square root' between 0 and 2*Pi:\n",
      " [0.         0.75577686 1.06882989 1.30904392 1.51155372 1.68996844\n",
      " 1.85126767 1.99959762 2.13765978 2.26733058 2.38997629 2.50662827]\n",
      "\n",
      "12 values of 'e to to power' between 0 and 2*Pi:\n",
      " [  1.           1.77038788   3.13427325   5.54887937   9.8236688\n",
      "  17.39170418  30.79006231  54.51035317  96.50446863 170.85034171\n",
      " 302.47137439 535.49165552]\n",
      "\n",
      "12 values of 'log base 10' between 0 and 2*Pi:\n",
      " [       -inf -0.24321282  0.05781718  0.23390844  0.35884717  0.45575719\n",
      "  0.53493843  0.60188522  0.65987717  0.71102969  0.75678718  0.79817987]\n",
      "note the undefined log10 of 0 at first position\n",
      "\n",
      "12 values of 'natural log' between 0 and 2*Pi:\n",
      " [       -inf -0.56001821  0.13312897  0.53859408  0.82627615  1.04941971\n",
      "  1.23174126  1.38589194  1.51942334  1.63720637  1.74256689  1.83787707]\n",
      "note the undefined log of 0 at first position\n"
     ]
    },
    {
     "name": "stderr",
     "output_type": "stream",
     "text": [
      "C:\\Users\\be34gof\\AppData\\Local\\Temp/ipykernel_22748/35624417.py:13: RuntimeWarning: divide by zero encountered in log10\n",
      "  print(f\"{n} values of 'log base 10' between 0 and 2*Pi:\\n\",np.log10(x))\n",
      "C:\\Users\\be34gof\\AppData\\Local\\Temp/ipykernel_22748/35624417.py:17: RuntimeWarning: divide by zero encountered in log\n",
      "  print(f\"{n} values of 'natural log' between 0 and 2*Pi:\\n\",np.log(x))\n"
     ]
    }
   ],
   "source": [
    "#it contains most fucntion used in calculus\n",
    "n=12\n",
    "x=np.linspace(0,2*np.pi,n)\n",
    "print(f\"{n} values of 'sin' between 0 and 2*Pi:\\n\",np.sin(x))\n",
    "print()\n",
    "print(f\"{n} values of 'cos' between 0 and 2*Pi:\\n\",np.cos(x))\n",
    "print()\n",
    "print(f\"{n} values of 'square root' between 0 and 2*Pi:\\n\",np.sqrt(x))\n",
    "print()\n",
    "print(f\"{n} values of 'e to to power' between 0 and 2*Pi:\\n\",np.exp(x))\n",
    "\n",
    "print()\n",
    "print(f\"{n} values of 'log base 10' between 0 and 2*Pi:\\n\",np.log10(x))\n",
    "print(\"note the undefined log10 of 0 at first position\")\n",
    "\n",
    "print()\n",
    "print(f\"{n} values of 'natural log' between 0 and 2*Pi:\\n\",np.log(x))\n",
    "print(\"note the undefined log of 0 at first position\")"
   ]
  },
  {
   "cell_type": "code",
   "execution_count": null,
   "id": "7463b5f6-c347-43af-8510-62f88c3b8ac6",
   "metadata": {},
   "outputs": [],
   "source": []
  }
 ],
 "metadata": {
  "kernelspec": {
   "display_name": "Python 3 (ipykernel)",
   "language": "python",
   "name": "python3"
  },
  "language_info": {
   "codemirror_mode": {
    "name": "ipython",
    "version": 3
   },
   "file_extension": ".py",
   "mimetype": "text/x-python",
   "name": "python",
   "nbconvert_exporter": "python",
   "pygments_lexer": "ipython3",
   "version": "3.8.0"
  }
 },
 "nbformat": 4,
 "nbformat_minor": 5
}
