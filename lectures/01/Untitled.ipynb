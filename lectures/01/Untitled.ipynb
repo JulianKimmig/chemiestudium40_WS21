{
 "cells": [
  {
   "cell_type": "markdown",
   "id": "d765d9b3-f950-4051-bd20-bb5f69161c84",
   "metadata": {},
   "source": [
    "# variables\n",
    "basic types"
   ]
  },
  {
   "cell_type": "code",
   "execution_count": 11,
   "id": "5aacca81-ba3d-43cd-a7b7-bd3dc8ef0c3c",
   "metadata": {},
   "outputs": [
    {
     "name": "stdout",
     "output_type": "stream",
     "text": [
      "<class 'str'>\n",
      "<class 'int'>\n",
      "<class 'float'>\n",
      "<class 'bool'>\n"
     ]
    }
   ],
   "source": [
    "molecule_name = \"ethane\" # string\n",
    "number_H = 6 # integer\n",
    "number_C = 2 # int\n",
    "mass_H = 1.008 # float\n",
    "mass_C= 12.011 # float\n",
    "is_gaseous=True # boolean\n",
    "\n",
    "print(type(molecule_name))\n",
    "print(type(number_Hs))\n",
    "print(type(mass_H))\n",
    "print(type(is_gaseous))"
   ]
  },
  {
   "cell_type": "markdown",
   "id": "e3307980-f9d5-4483-b671-0901a2650c98",
   "metadata": {},
   "source": [
    "basic operations"
   ]
  },
  {
   "cell_type": "code",
   "execution_count": 13,
   "id": "5eae074c-4335-40a5-aa42-dbd5eab64a61",
   "metadata": {},
   "outputs": [
    {
     "name": "stdout",
     "output_type": "stream",
     "text": [
      "30.07\n"
     ]
    }
   ],
   "source": [
    "mass=number_H*mass_H + number_C*mass_C\n",
    "print(mass)"
   ]
  },
  {
   "cell_type": "code",
   "execution_count": 15,
   "id": "b5d8a929-a727-43b4-93e0-13a88ca6be0d",
   "metadata": {},
   "outputs": [
    {
     "data": {
      "text/plain": [
       "'CCHHHHHH'"
      ]
     },
     "execution_count": 15,
     "metadata": {},
     "output_type": "execute_result"
    }
   ],
   "source": [
    "mol_string = \"C\"*number_C + \"H\"*number_H\n",
    "mol_string"
   ]
  },
  {
   "cell_type": "code",
   "execution_count": 17,
   "id": "474d3801-b68e-46c5-b667-1f885f75dd60",
   "metadata": {},
   "outputs": [
    {
     "ename": "TypeError",
     "evalue": "can only concatenate str (not \"int\") to str",
     "output_type": "error",
     "traceback": [
      "\u001b[1;31m---------------------------------------------------------------------------\u001b[0m",
      "\u001b[1;31mTypeError\u001b[0m                                 Traceback (most recent call last)",
      "\u001b[1;32m~\\AppData\\Local\\Temp/ipykernel_23368/690582079.py\u001b[0m in \u001b[0;36m<module>\u001b[1;34m\u001b[0m\n\u001b[0;32m      1\u001b[0m \u001b[1;31m#wie könnte ich zu summeformel kommen?\u001b[0m\u001b[1;33m\u001b[0m\u001b[1;33m\u001b[0m\u001b[1;33m\u001b[0m\u001b[0m\n\u001b[1;32m----> 2\u001b[1;33m \u001b[1;34m\"C\"\u001b[0m\u001b[1;33m+\u001b[0m\u001b[0mnumber_C\u001b[0m\u001b[1;33m+\u001b[0m\u001b[1;34m\"H\"\u001b[0m\u001b[1;33m+\u001b[0m\u001b[0mnumber_H\u001b[0m\u001b[1;33m\u001b[0m\u001b[1;33m\u001b[0m\u001b[0m\n\u001b[0m",
      "\u001b[1;31mTypeError\u001b[0m: can only concatenate str (not \"int\") to str"
     ]
    }
   ],
   "source": [
    "#wie könnte ich zu summeformel kommen?\n",
    "\"C\"+number_C+\"H\"+number_H"
   ]
  },
  {
   "cell_type": "code",
   "execution_count": 18,
   "id": "fac7bbb8-cad9-4abc-bee6-29940d7ff7bb",
   "metadata": {},
   "outputs": [
    {
     "data": {
      "text/plain": [
       "'C2H6'"
      ]
     },
     "execution_count": 18,
     "metadata": {},
     "output_type": "execute_result"
    }
   ],
   "source": [
    "\"C\"+str(number_C)+\"H\"+str(number_H)"
   ]
  },
  {
   "cell_type": "code",
   "execution_count": 19,
   "id": "2e266aa7-234a-4f8d-b1b8-67a1f130ccbe",
   "metadata": {},
   "outputs": [
    {
     "data": {
      "text/plain": [
       "'C2H6'"
      ]
     },
     "execution_count": 19,
     "metadata": {},
     "output_type": "execute_result"
    }
   ],
   "source": [
    "f\"C{number_C}H{number_H}\""
   ]
  },
  {
   "cell_type": "markdown",
   "id": "e3de6b5d-a250-404a-9083-69fcd6dd6d64",
   "metadata": {},
   "source": [
    "# Lists"
   ]
  },
  {
   "cell_type": "code",
   "execution_count": 43,
   "id": "ba5458dc-a09f-4d9d-b2a5-58b7426e04a2",
   "metadata": {},
   "outputs": [
    {
     "data": {
      "text/plain": [
       "['methane', 'ethane', 'propane', 'butane', 'pentane', 'hexane']"
      ]
     },
     "execution_count": 43,
     "metadata": {},
     "output_type": "execute_result"
    }
   ],
   "source": [
    "alkanes=[\"methane\",\"ethane\",\"propane\",\"butane\",\"pentane\",\"hexane\"]\n",
    "alkanes"
   ]
  },
  {
   "cell_type": "code",
   "execution_count": 44,
   "id": "20ca075e-d5db-4644-b731-3743b21bee69",
   "metadata": {},
   "outputs": [
    {
     "data": {
      "text/plain": [
       "[['methane', 1],\n",
       " ['ethane', 1],\n",
       " ['propane', 1],\n",
       " ['butane', 1],\n",
       " ['pentane', 1],\n",
       " ['hexane', 1]]"
      ]
     },
     "execution_count": 44,
     "metadata": {},
     "output_type": "execute_result"
    }
   ],
   "source": [
    "alkanes_w_C_count=[[\"methane\",1],[\"ethane\",1],[\"propane\",1],[\"butane\",1],[\"pentane\",1],[\"hexane\",1]] # mixed types possible\n",
    "alkanes_w_C_count"
   ]
  },
  {
   "cell_type": "code",
   "execution_count": 45,
   "id": "5d6e460a-1322-490d-90f5-5cac8b98cb76",
   "metadata": {},
   "outputs": [
    {
     "name": "stdout",
     "output_type": "stream",
     "text": [
      "methane\n",
      "ethane\n",
      "propane\n",
      "butane\n",
      "pentane\n",
      "hexane\n"
     ]
    }
   ],
   "source": [
    "alkanes_w_C_count=[]\n",
    "for alk in alkanes:\n",
    "    print(alk)"
   ]
  },
  {
   "cell_type": "code",
   "execution_count": 46,
   "id": "2e4c6a32-f52b-4949-a86b-2353c4e1ff2e",
   "metadata": {},
   "outputs": [
    {
     "data": {
      "text/plain": [
       "[['methane', 1],\n",
       " ['ethane', 2],\n",
       " ['propane', 3],\n",
       " ['butane', 4],\n",
       " ['pentane', 5],\n",
       " ['hexane', 6]]"
      ]
     },
     "execution_count": 46,
     "metadata": {},
     "output_type": "execute_result"
    }
   ],
   "source": [
    "alkanes_w_C_count=[]\n",
    "i = 1\n",
    "for alk in alkanes:\n",
    "    alkanes_w_C_count.append([alk,i])\n",
    "    i=i+1\n",
    "alkanes_w_C_count"
   ]
  },
  {
   "cell_type": "code",
   "execution_count": 47,
   "id": "d3746321-dca1-4eed-88ac-04e2e75c248e",
   "metadata": {},
   "outputs": [
    {
     "data": {
      "text/plain": [
       "[['methane', 1],\n",
       " ['ethane', 2],\n",
       " ['propane', 3],\n",
       " ['butane', 4],\n",
       " ['pentane', 5],\n",
       " ['hexane', 6]]"
      ]
     },
     "execution_count": 47,
     "metadata": {},
     "output_type": "execute_result"
    }
   ],
   "source": [
    "alkanes_w_C_count=[]\n",
    "for i,alk in enumerate(alkanes):\n",
    "    alkanes_w_C_count.append([alk,i+1])\n",
    "alkanes_w_C_count"
   ]
  },
  {
   "cell_type": "code",
   "execution_count": 48,
   "id": "2a8eab4b-7e73-46ad-85f3-a832c50348e9",
   "metadata": {},
   "outputs": [
    {
     "name": "stdout",
     "output_type": "stream",
     "text": [
      "0 ['methane', 1]\n",
      "1 ['ethane', 2]\n",
      "2 ['propane', 3]\n",
      "3 ['butane', 4]\n",
      "4 ['pentane', 5]\n",
      "5 ['hexane', 6]\n"
     ]
    }
   ],
   "source": [
    "for i,alkC in enumerate(alkanes_w_C_count):\n",
    "    print(i,alkC)"
   ]
  },
  {
   "cell_type": "code",
   "execution_count": 53,
   "id": "5e791901-080c-47a2-8921-f42ac7c298bc",
   "metadata": {},
   "outputs": [
    {
     "name": "stdout",
     "output_type": "stream",
     "text": [
      "the 1. alkane is methane with 1 carbon(s)\n",
      "the 2. alkane is ethane with 2 carbon(s)\n",
      "the 3. alkane is propane with 3 carbon(s)\n",
      "the 4. alkane is butane with 4 carbon(s)\n",
      "the 5. alkane is pentane with 5 carbon(s)\n",
      "the 6. alkane is hexane with 6 carbon(s)\n"
     ]
    }
   ],
   "source": [
    "for i, alkC in enumerate(alkanes_w_C_count):\n",
    "    print(f\"the {i+1}. alkane is {alkC[0]} with {alkC[1]} carbon(s)\")"
   ]
  },
  {
   "cell_type": "markdown",
   "id": "86e85bb0-7d82-4a45-aa8f-e96f9eb8f399",
   "metadata": {},
   "source": [
    "# Dictionaries"
   ]
  },
  {
   "cell_type": "code",
   "execution_count": 60,
   "id": "7b00c08e-360a-48e2-a698-47c2ce80db18",
   "metadata": {},
   "outputs": [],
   "source": [
    "atom_count_dict = {\n",
    "\"C\":2,\n",
    "\"H\":6,\n",
    "}\n",
    "atom_count_dict"
   ]
  },
  {
   "cell_type": "code",
   "execution_count": 71,
   "id": "a3d16585-e311-447b-95ec-ba4acd04acb0",
   "metadata": {},
   "outputs": [
    {
     "name": "stdout",
     "output_type": "stream",
     "text": [
      "number of C: 2\n"
     ]
    }
   ],
   "source": [
    "print(f\"number of C: {atom_count_dict['C']}\") # keep an eye on quotes"
   ]
  },
  {
   "cell_type": "code",
   "execution_count": 72,
   "id": "0891f7a9-ba31-4fdb-b5e4-861490012443",
   "metadata": {},
   "outputs": [
    {
     "data": {
      "text/plain": [
       "{'C': 2, 'H': 6, 'O': 1}"
      ]
     },
     "execution_count": 72,
     "metadata": {},
     "output_type": "execute_result"
    }
   ],
   "source": [
    "atom_count_dict[\"O\"]=1\n",
    "atom_count_dict"
   ]
  },
  {
   "cell_type": "code",
   "execution_count": 73,
   "id": "df4f7119-5be1-4728-a8fa-25ceb3ebc24b",
   "metadata": {},
   "outputs": [
    {
     "name": "stdout",
     "output_type": "stream",
     "text": [
      "number of C: 2\n",
      "number of H: 6\n",
      "number of O: 1\n"
     ]
    }
   ],
   "source": [
    "for key, value in atom_count_dict.items():\n",
    "    print(f\"number of {key}: {value}\")"
   ]
  },
  {
   "cell_type": "code",
   "execution_count": 74,
   "id": "ec74409a-5e88-4c1f-8bbf-3fc754673efc",
   "metadata": {},
   "outputs": [
    {
     "data": {
      "text/plain": [
       "'C2H6O1'"
      ]
     },
     "execution_count": 74,
     "metadata": {},
     "output_type": "execute_result"
    }
   ],
   "source": [
    "sum_form=\"\"\n",
    "for key, value in atom_count_dict.items():\n",
    "    sum_form+=key+str(value)\n",
    "sum_form"
   ]
  },
  {
   "cell_type": "code",
   "execution_count": null,
   "id": "507b93b8-b3aa-4de9-b16a-c9d3f2d7be95",
   "metadata": {},
   "outputs": [],
   "source": []
  }
 ],
 "metadata": {
  "kernelspec": {
   "display_name": "Python 3 (ipykernel)",
   "language": "python",
   "name": "python3"
  },
  "language_info": {
   "codemirror_mode": {
    "name": "ipython",
    "version": 3
   },
   "file_extension": ".py",
   "mimetype": "text/x-python",
   "name": "python",
   "nbconvert_exporter": "python",
   "pygments_lexer": "ipython3",
   "version": "3.8.0"
  }
 },
 "nbformat": 4,
 "nbformat_minor": 5
}
