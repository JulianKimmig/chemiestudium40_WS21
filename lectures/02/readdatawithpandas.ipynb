{
 "cells": [
  {
   "cell_type": "code",
   "execution_count": 4,
   "id": "e235f38d-f347-4ffb-abe8-2ba9d065d75e",
   "metadata": {},
   "outputs": [],
   "source": [
    "import os\n",
    "import numpy as np\n",
    "import matplotlib.pyplot as plt\n",
    "import pandas as pd # pandas is for working with tables"
   ]
  },
  {
   "cell_type": "code",
   "execution_count": 5,
   "id": "67b6a1cb-f054-45c1-bbd8-0a008a3eb445",
   "metadata": {},
   "outputs": [
    {
     "data": {
      "text/plain": [
       "True"
      ]
     },
     "execution_count": 5,
     "metadata": {},
     "output_type": "execute_result"
    }
   ],
   "source": [
    "file = \"../../data/spectrum_processed.csv\" # realtive path to the data file from the notebook folder (\"..\" for parent foler)\n",
    "os.path.exists(file) # check if the file es there"
   ]
  },
  {
   "cell_type": "code",
   "execution_count": 6,
   "id": "d5c9b5a8-aeed-453f-96a1-f763240bafc1",
   "metadata": {},
   "outputs": [
    {
     "data": {
      "text/html": [
       "<div>\n",
       "<style scoped>\n",
       "    .dataframe tbody tr th:only-of-type {\n",
       "        vertical-align: middle;\n",
       "    }\n",
       "\n",
       "    .dataframe tbody tr th {\n",
       "        vertical-align: top;\n",
       "    }\n",
       "\n",
       "    .dataframe thead th {\n",
       "        text-align: right;\n",
       "    }\n",
       "</style>\n",
       "<table border=\"1\" class=\"dataframe\">\n",
       "  <thead>\n",
       "    <tr style=\"text-align: right;\">\n",
       "      <th></th>\n",
       "      <th>Frequency(ppm)</th>\n",
       "      <th>Intensity</th>\n",
       "    </tr>\n",
       "  </thead>\n",
       "  <tbody>\n",
       "    <tr>\n",
       "      <th>0</th>\n",
       "      <td>-52.63069</td>\n",
       "      <td>-0.039868</td>\n",
       "    </tr>\n",
       "    <tr>\n",
       "      <th>1</th>\n",
       "      <td>-52.62894</td>\n",
       "      <td>-0.041283</td>\n",
       "    </tr>\n",
       "    <tr>\n",
       "      <th>2</th>\n",
       "      <td>-52.62719</td>\n",
       "      <td>0.069121</td>\n",
       "    </tr>\n",
       "    <tr>\n",
       "      <th>3</th>\n",
       "      <td>-52.62543</td>\n",
       "      <td>-0.056298</td>\n",
       "    </tr>\n",
       "    <tr>\n",
       "      <th>4</th>\n",
       "      <td>-52.62368</td>\n",
       "      <td>-0.276839</td>\n",
       "    </tr>\n",
       "    <tr>\n",
       "      <th>...</th>\n",
       "      <td>...</td>\n",
       "      <td>...</td>\n",
       "    </tr>\n",
       "    <tr>\n",
       "      <th>65531</th>\n",
       "      <td>62.17439</td>\n",
       "      <td>-0.120103</td>\n",
       "    </tr>\n",
       "    <tr>\n",
       "      <th>65532</th>\n",
       "      <td>62.17613</td>\n",
       "      <td>-0.074051</td>\n",
       "    </tr>\n",
       "    <tr>\n",
       "      <th>65533</th>\n",
       "      <td>62.17788</td>\n",
       "      <td>-0.871392</td>\n",
       "    </tr>\n",
       "    <tr>\n",
       "      <th>65534</th>\n",
       "      <td>62.17964</td>\n",
       "      <td>-0.167101</td>\n",
       "    </tr>\n",
       "    <tr>\n",
       "      <th>65535</th>\n",
       "      <td>62.18139</td>\n",
       "      <td>0.508803</td>\n",
       "    </tr>\n",
       "  </tbody>\n",
       "</table>\n",
       "<p>65536 rows × 2 columns</p>\n",
       "</div>"
      ],
      "text/plain": [
       "       Frequency(ppm)  Intensity\n",
       "0           -52.63069  -0.039868\n",
       "1           -52.62894  -0.041283\n",
       "2           -52.62719   0.069121\n",
       "3           -52.62543  -0.056298\n",
       "4           -52.62368  -0.276839\n",
       "...               ...        ...\n",
       "65531        62.17439  -0.120103\n",
       "65532        62.17613  -0.074051\n",
       "65533        62.17788  -0.871392\n",
       "65534        62.17964  -0.167101\n",
       "65535        62.18139   0.508803\n",
       "\n",
       "[65536 rows x 2 columns]"
      ]
     },
     "execution_count": 6,
     "metadata": {},
     "output_type": "execute_result"
    }
   ],
   "source": [
    "df = pd.read_csv(file,sep=\";\",decimal=\",\") # read the csv file as a DataFrame (\"Table\"), change the default data seperator \",\" to \";\" and the default decimal seperator \".\" to \",\"\n",
    "df # display"
   ]
  },
  {
   "cell_type": "code",
   "execution_count": 7,
   "id": "077766a4-287a-4ea0-aeb5-cb1dc51fcf4d",
   "metadata": {},
   "outputs": [
    {
     "data": {
      "text/plain": [
       "[<matplotlib.lines.Line2D at 0x1f2227aefd0>]"
      ]
     },
     "execution_count": 7,
     "metadata": {},
     "output_type": "execute_result"
    },
    {
     "data": {
      "image/png": "[encoded data removed]",
      "text/plain": [
       "<Figure size 432x288 with 1 Axes>"
      ]
     },
     "metadata": {
      "needs_background": "light"
     },
     "output_type": "display_data"
    }
   ],
   "source": [
    "plt.plot(df[\"Frequency(ppm)\"],df[\"Intensity\"]) # plots the data, note that we can get it from the dataframe by the header names"
   ]
  },
  {
   "cell_type": "code",
   "execution_count": 8,
   "id": "f9362af7-07a7-44d1-bd1d-b8b5edb1a1cb",
   "metadata": {},
   "outputs": [
    {
     "data": {
      "text/html": [
       "<div>\n",
       "<style scoped>\n",
       "    .dataframe tbody tr th:only-of-type {\n",
       "        vertical-align: middle;\n",
       "    }\n",
       "\n",
       "    .dataframe tbody tr th {\n",
       "        vertical-align: top;\n",
       "    }\n",
       "\n",
       "    .dataframe thead th {\n",
       "        text-align: right;\n",
       "    }\n",
       "</style>\n",
       "<table border=\"1\" class=\"dataframe\">\n",
       "  <thead>\n",
       "    <tr style=\"text-align: right;\">\n",
       "      <th></th>\n",
       "      <th>Frequency(ppm)</th>\n",
       "      <th>Intensity</th>\n",
       "    </tr>\n",
       "  </thead>\n",
       "  <tbody>\n",
       "    <tr>\n",
       "      <th>30042</th>\n",
       "      <td>0.000493</td>\n",
       "      <td>1.149490</td>\n",
       "    </tr>\n",
       "    <tr>\n",
       "      <th>30043</th>\n",
       "      <td>0.002248</td>\n",
       "      <td>0.524601</td>\n",
       "    </tr>\n",
       "    <tr>\n",
       "      <th>30044</th>\n",
       "      <td>0.003997</td>\n",
       "      <td>0.760162</td>\n",
       "    </tr>\n",
       "    <tr>\n",
       "      <th>30045</th>\n",
       "      <td>0.005746</td>\n",
       "      <td>1.096012</td>\n",
       "    </tr>\n",
       "    <tr>\n",
       "      <th>30046</th>\n",
       "      <td>0.007501</td>\n",
       "      <td>1.292386</td>\n",
       "    </tr>\n",
       "    <tr>\n",
       "      <th>...</th>\n",
       "      <td>...</td>\n",
       "      <td>...</td>\n",
       "    </tr>\n",
       "    <tr>\n",
       "      <th>33462</th>\n",
       "      <td>5.992059</td>\n",
       "      <td>-1.086823</td>\n",
       "    </tr>\n",
       "    <tr>\n",
       "      <th>33463</th>\n",
       "      <td>5.993814</td>\n",
       "      <td>-0.957853</td>\n",
       "    </tr>\n",
       "    <tr>\n",
       "      <th>33464</th>\n",
       "      <td>5.995563</td>\n",
       "      <td>-0.483769</td>\n",
       "    </tr>\n",
       "    <tr>\n",
       "      <th>33465</th>\n",
       "      <td>5.997312</td>\n",
       "      <td>-0.134372</td>\n",
       "    </tr>\n",
       "    <tr>\n",
       "      <th>33466</th>\n",
       "      <td>5.999067</td>\n",
       "      <td>-0.416645</td>\n",
       "    </tr>\n",
       "  </tbody>\n",
       "</table>\n",
       "<p>3425 rows × 2 columns</p>\n",
       "</div>"
      ],
      "text/plain": [
       "       Frequency(ppm)  Intensity\n",
       "30042        0.000493   1.149490\n",
       "30043        0.002248   0.524601\n",
       "30044        0.003997   0.760162\n",
       "30045        0.005746   1.096012\n",
       "30046        0.007501   1.292386\n",
       "...               ...        ...\n",
       "33462        5.992059  -1.086823\n",
       "33463        5.993814  -0.957853\n",
       "33464        5.995563  -0.483769\n",
       "33465        5.997312  -0.134372\n",
       "33466        5.999067  -0.416645\n",
       "\n",
       "[3425 rows x 2 columns]"
      ]
     },
     "execution_count": 8,
     "metadata": {},
     "output_type": "execute_result"
    }
   ],
   "source": [
    "#create an new dataframe, where only the values of the old one are inside, where:\n",
    "# the ppm is larger 0 and smaller than 6\n",
    "subddf = df[\n",
    "    (df[\"Frequency(ppm)\"]>=0) & (df[\"Frequency(ppm)\"]<6) \n",
    "]\n",
    "subddf"
   ]
  },
  {
   "cell_type": "code",
   "execution_count": 10,
   "id": "c94cbedd-9ce8-41c3-a8ad-b9638abdf8b6",
   "metadata": {},
   "outputs": [
    {
     "data": {
      "image/png": "[encoded data removed]",
      "text/plain": [
       "<Figure size 432x288 with 1 Axes>"
      ]
     },
     "metadata": {
      "needs_background": "light"
     },
     "output_type": "display_data"
    }
   ],
   "source": [
    "#plot again\n",
    "plt.plot(subddf[\"Frequency(ppm)\"],subddf[\"Intensity\"],label=\"data\")\n",
    "plt.xlabel(subddf.columns[0])\n",
    "plt.ylabel(subddf.columns[1])\n",
    "plt.title(\"sample nmr\")\n",
    "plt.legend()\n",
    "plt.savefig(\"pic.png\",dpi=300) # saves the image, note that savefig has to be called before show\n",
    "plt.show()\n",
    "plt.close()"
   ]
  },
  {
   "cell_type": "code",
   "execution_count": null,
   "id": "0f22695b-bf27-48a2-9261-491352cd07e9",
   "metadata": {},
   "outputs": [],
   "source": []
  },
  {
   "cell_type": "code",
   "execution_count": 11,
   "id": "9c154291-8463-4a53-b7b0-2f8e02d4966e",
   "metadata": {},
   "outputs": [
    {
     "data": {
      "text/plain": [
       "[<matplotlib.lines.Line2D at 0x1f222cee100>]"
      ]
     },
     "execution_count": 11,
     "metadata": {},
     "output_type": "execute_result"
    },
    {
     "data": {
      "image/png": "[encoded data removed]",
      "text/plain": [
       "<Figure size 432x288 with 1 Axes>"
      ]
     },
     "metadata": {
      "needs_background": "light"
     },
     "output_type": "display_data"
    }
   ],
   "source": [
    "# plot a sin\n",
    "x=np.linspace(0,10,500)\n",
    "y=np.sin(x)\n",
    "plt.plot(x,y)"
   ]
  },
  {
   "cell_type": "code",
   "execution_count": null,
   "id": "01224548-51ad-43a3-861a-e788d716f50a",
   "metadata": {},
   "outputs": [],
   "source": []
  }
 ],
 "metadata": {
  "kernelspec": {
   "display_name": "Python 3 (ipykernel)",
   "language": "python",
   "name": "python3"
  },
  "language_info": {
   "codemirror_mode": {
    "name": "ipython",
    "version": 3
   },
   "file_extension": ".py",
   "mimetype": "text/x-python",
   "name": "python",
   "nbconvert_exporter": "python",
   "pygments_lexer": "ipython3",
   "version": "3.8.0"
  }
 },
 "nbformat": 4,
 "nbformat_minor": 5
}
